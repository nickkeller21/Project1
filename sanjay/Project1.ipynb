{
 "cells": [
  {
   "cell_type": "code",
   "execution_count": 11,
   "metadata": {},
   "outputs": [
    {
     "data": {
      "text/plain": [
       "<nba_api.stats.endpoints.playercareerstats.PlayerCareerStats at 0x295b81aa8d0>"
      ]
     },
     "execution_count": 11,
     "metadata": {},
     "output_type": "execute_result"
    }
   ],
   "source": [
    "import pandas as pd\n",
    "from \n",
    "from nba_api.stats.endpoints import playercareerstats\n",
    "from nba_api.stats.endpoints import playercompare\n",
    "\n",
    "\n",
    "# westbrook\n",
    "westbrook_table = playercareerstats.PlayerCareerStats(player_id='201566')\n",
    "westbrook_table\n"
   ]
  },
  {
   "cell_type": "code",
   "execution_count": null,
   "metadata": {},
   "outputs": [],
   "source": [
    "westbrook_three = westbrook_df['FG3_PCT']\n",
    "west_df = pd.DataFrame(westbrook_three)\n",
    "westbrook_pd = pd.DataFrame(west_df, columns=[\"Season_ID\", \"3_PCT\"])\n",
    "#harden\n",
    "harden = playercareerstats.PlayerCareerStats(player_id='201935')\n",
    "harden_df = harden.get_data_frames()[0]\n",
    "harden_three = harden_df['FG3_PCT']\n",
    "\n",
    "\n",
    "#combine three point \n",
    "\n",
    "westbrook_pd"
   ]
  }
 ],
 "metadata": {
  "kernelspec": {
   "display_name": "Python 3",
   "language": "python",
   "name": "python3"
  },
  "language_info": {
   "codemirror_mode": {
    "name": "ipython",
    "version": 3
   },
   "file_extension": ".py",
   "mimetype": "text/x-python",
   "name": "python",
   "nbconvert_exporter": "python",
   "pygments_lexer": "ipython3",
   "version": "3.7.3"
  }
 },
 "nbformat": 4,
 "nbformat_minor": 2
}
